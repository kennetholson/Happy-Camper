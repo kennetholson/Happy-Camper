{
  "nbformat": 4,
  "nbformat_minor": 0,
  "metadata": {
    "colab": {
      "name": "KE_NN_dogs_momentum.ipynb",
      "version": "0.3.2",
      "provenance": [],
      "collapsed_sections": [],
      "include_colab_link": true
    },
    "kernelspec": {
      "name": "python3",
      "display_name": "Python 3"
    },
    "accelerator": "GPU"
  },
  "cells": [
    {
      "cell_type": "markdown",
      "metadata": {
        "id": "view-in-github",
        "colab_type": "text"
      },
      "source": [
        "<a href=\"https://colab.research.google.com/github/kennetholson/Happy-Camper/blob/master/KE_NN_dogs_momentum.ipynb\" target=\"_parent\"><img src=\"https://colab.research.google.com/assets/colab-badge.svg\" alt=\"Open In Colab\"/></a>"
      ]
    },
    {
      "metadata": {
        "id": "Wt9zd5W9UQ2h",
        "colab_type": "text"
      },
      "cell_type": "markdown",
      "source": [
        "#Epileptic seizure prediction\n",
        "---\n",
        "Based on Kaggle competition American Epilepsy Society Seizure Prediction Challenge\n",
        "https://www.kaggle.com/c/seizure-prediction"
      ]
    },
    {
      "metadata": {
        "id": "4UrIQIip3Mer",
        "colab_type": "code",
        "colab": {}
      },
      "cell_type": "code",
      "source": [
        "#Importing libraries\n",
        "import os, sys, pickle, itertools\n",
        "\n",
        "#import joblib\n",
        "\n",
        "import numpy as np\n",
        "import math as math\n",
        "\n",
        "from scipy.io import loadmat\n",
        "from scipy.signal import resample #, butter, lfilter\n",
        "\n",
        "import sklearn.linear_model\n",
        "\n",
        "import sklearn.metrics\n",
        "from sklearn.preprocessing import StandardScaler"
      ],
      "execution_count": 0,
      "outputs": []
    },
    {
      "metadata": {
        "id": "OR8FX7sH4Jla",
        "colab_type": "code",
        "colab": {
          "base_uri": "https://localhost:8080/",
          "height": 35
        },
        "outputId": "d7dcf7b2-ab52-4ee3-bb2e-af6011b88963"
      },
      "cell_type": "code",
      "source": [
        "#Check if we have a GPU\n",
        "\n",
        "import tensorflow as tf\n",
        "device_name = tf.test.gpu_device_name()\n",
        "if device_name != '/device:GPU:0':\n",
        "  raise SystemError('GPU device not found')\n",
        "print('Found GPU at: {}'.format(device_name))"
      ],
      "execution_count": 2,
      "outputs": [
        {
          "output_type": "stream",
          "text": [
            "Found GPU at: /device:GPU:0\n"
          ],
          "name": "stdout"
        }
      ]
    },
    {
      "metadata": {
        "id": "FlZZgaru0DOW",
        "colab_type": "code",
        "colab": {
          "base_uri": "https://localhost:8080/",
          "height": 52
        },
        "outputId": "26d82f9b-66c6-41f0-ccba-f0d1c726149e"
      },
      "cell_type": "code",
      "source": [
        "#Check the versions - from my good friend Dat Nguyen\n",
        "\n",
        "print('Python version: %s' % sys.version.split(' ')[0])\n",
        "print('TensorFlow version: %s' % tf.__version__)"
      ],
      "execution_count": 3,
      "outputs": [
        {
          "output_type": "stream",
          "text": [
            "Python version: 3.6.7\n",
            "TensorFlow version: 1.12.0\n"
          ],
          "name": "stdout"
        }
      ]
    },
    {
      "metadata": {
        "id": "f-021ogj4kB3",
        "colab_type": "text"
      },
      "cell_type": "markdown",
      "source": [
        "## Download Dataset using Kaggle API##\n",
        "\n",
        "---\n",
        "(This whole section for getting data from Kaggle is borrowed from my good friend Dat Nguyen)\n",
        "\n",
        "### Step 1: Create a API Token in Kaggle Account \n",
        "\n",
        "* Go to Kaggle --> My Account --> Create New API Token\n",
        "\n",
        "* Reference:  https://stackoverflow.com/questions/49310470/using-kaggle-datasets-into-google-colab\n",
        "\n",
        "\n",
        "### Step 2: Upload your `kaggle.json` to Google Colab\n",
        " \n",
        " * Your kaggle.json is a \"key\" to let you use Kaggle API to download dataset from their website.\n",
        " \n",
        " \n",
        " ### Step 3: Download `American Epilespy Seizure` Dataset (Only the Dog Version for now)\n",
        "\n"
      ]
    },
    {
      "metadata": {
        "id": "xh0BP8MT4m7I",
        "colab_type": "code",
        "colab": {}
      },
      "cell_type": "code",
      "source": [
        "# Install the Kaggle API client\n",
        "!pip install -q kaggle\n",
        "!apt-get install pv  >> /dev/null    # extract .tar file\n",
        "# Upload Json File\n",
        "if not os.path.isfile('kaggle.json'):\n",
        "  from google.colab import files\n",
        "  files.upload() "
      ],
      "execution_count": 0,
      "outputs": []
    },
    {
      "metadata": {
        "id": "qPRBKG244wcF",
        "colab_type": "code",
        "colab": {
          "base_uri": "https://localhost:8080/",
          "height": 242
        },
        "outputId": "5836a25f-b497-4c4c-a5b0-af2a9296ac2e"
      },
      "cell_type": "code",
      "source": [
        "# The Kaggle API client expects this file to be in ~/.kaggle \n",
        "%%bash\n",
        "\n",
        "mkdir -p ~/.kaggle\n",
        "cp kaggle.json ~/.kaggle/\n",
        "chmod 600 ~/.kaggle/kaggle.json  #  avoids a warning on Kaggle tool startup.\n",
        "\n",
        "printf \"American Epilepsy Dataset:\\n\\n\"\n",
        "kaggle competitions files seizure-prediction \n",
        "\n",
        "#printf \"\\nStarting to download all dataset...\\n\"\n",
        "#kaggle competitions download seizure-prediction\n",
        "\n",
        "# To download a particular file. Use: \n",
        "kaggle competitions download seizure-prediction -f Dog_5.tar.gz"
      ],
      "execution_count": 5,
      "outputs": [
        {
          "output_type": "stream",
          "text": [
            "American Epilepsy Dataset:\n",
            "\n",
            "name                   size  creationDate         \n",
            "--------------------  -----  -------------------  \n",
            "Dog_1.tar.gz            4GB  2014-08-22 16:44:38  \n",
            "Dog_2.tar.gz            6GB  2014-08-22 18:49:32  \n",
            "Dog_3.tar.gz            9GB  2014-08-22 21:51:20  \n",
            "Dog_4.tar.gz            9GB  2014-08-22 21:53:44  \n",
            "Dog_5.tar.gz            3GB  2014-08-21 19:35:13  \n",
            "Patient_1.tar.gz       14GB  2014-08-22 17:32:56  \n",
            "Patient_2.tar.gz       15GB  2014-08-22 17:40:11  \n",
            "sampleSubmission.csv  117KB  2014-08-25 15:08:59  \n",
            "Dog_5.tar.gz: Skipping, found more recently modified local copy (use --force to force download)\n"
          ],
          "name": "stdout"
        }
      ]
    },
    {
      "metadata": {
        "id": "_pfdkpsO54Sc",
        "colab_type": "code",
        "colab": {
          "base_uri": "https://localhost:8080/",
          "height": 69
        },
        "outputId": "2a3b5d96-0f73-446c-abb7-d24e20848405"
      },
      "cell_type": "code",
      "source": [
        "DATASET_DIR = './output'\n",
        "\n",
        "if not os.path.isdir(DATASET_DIR):\n",
        "  os.mkdir(DATASET_DIR)\n",
        "  \n",
        "print('Extracting Dog_5')\n",
        "!pv  Dog_5.tar.gz | tqdm --unit B --bytes --unit_scale --total $(du -sb Dog_5.tar.gz | awk '{print $1}')| tar xzf - -C output\n"
      ],
      "execution_count": 6,
      "outputs": [
        {
          "output_type": "stream",
          "text": [
            "Extracting Dog_5\n",
            "100% 2.60G/2.60G [01:54<00:00, 10.6MB/s]2.60GiB 0:01:54 [23.3MiB/s] [================================>] 100%            \n",
            "100% 2.60G/2.60G [01:54<00:00, 24.4MB/s]\n"
          ],
          "name": "stdout"
        }
      ]
    },
    {
      "metadata": {
        "id": "Jybo-0Z0cN3w",
        "colab_type": "text"
      },
      "cell_type": "markdown",
      "source": [
        "##Content of the file:\n",
        "* data: a matrix of EEG sample values arranged row x column as electrode x time.\n",
        "* data_length_sec: the time duration of each data row\n",
        "* sampling_frequency: the number of data samples representing 1 second of EEG data.\n",
        "* channels: a list of electrode names corresponding to the rows in the data field\n",
        "* sequence: the index of the data segment within the one hour series of clips. For example, preictal_segment_6.mat has a sequence number of 6, and represents the iEEG data from 50 to 60 minutes into the preictal data."
      ]
    },
    {
      "metadata": {
        "id": "2JyTZZZCV8SF",
        "colab_type": "code",
        "colab": {
          "base_uri": "https://localhost:8080/",
          "height": 417
        },
        "outputId": "f08b8329-7143-42a1-f1ad-d6fdf489c297"
      },
      "cell_type": "code",
      "source": [
        "#Content of the example file]\n",
        "m = loadmat('./output/Dog_5/Dog_5_preictal_segment_0007.mat')\n",
        "d = m\n",
        "print(d)"
      ],
      "execution_count": 7,
      "outputs": [
        {
          "output_type": "stream",
          "text": [
            "{'__header__': b'MATLAB 5.0 MAT-file, Platform: MACI64, Created on: Thu Aug 21 01:00:00 2014', '__version__': '1.0', '__globals__': [], 'preictal_segment_7': array([[(array([[-25, -29, -17, ...,  42,  41,  24],\n",
            "       [ 36,  32,  33, ..., -45, -44, -35],\n",
            "       [-18, -16,  -8, ..., -10,  -6, -21],\n",
            "       ...,\n",
            "       [ -9,   0, -19, ..., -33, -23, -11],\n",
            "       [ 19,  18,   5, ..., -20, -38, -45],\n",
            "       [ -1,   3,   4, ...,  18,  29,  22]], dtype=int16), array([[600]], dtype=uint16), array([[399.6097561]]), array([[array(['NVC0905_22_004_Ecog_c001'], dtype='<U24'),\n",
            "        array(['NVC0905_22_004_Ecog_c002'], dtype='<U24'),\n",
            "        array(['NVC0905_22_004_Ecog_c003'], dtype='<U24'),\n",
            "        array(['NVC0905_22_004_Ecog_c005'], dtype='<U24'),\n",
            "        array(['NVC0905_22_004_Ecog_c006'], dtype='<U24'),\n",
            "        array(['NVC0905_22_004_Ecog_c007'], dtype='<U24'),\n",
            "        array(['NVC0905_22_004_Ecog_c008'], dtype='<U24'),\n",
            "        array(['NVC0905_22_004_Ecog_c009'], dtype='<U24'),\n",
            "        array(['NVC0905_22_004_Ecog_c010'], dtype='<U24'),\n",
            "        array(['NVC0905_22_004_Ecog_c011'], dtype='<U24'),\n",
            "        array(['NVC0905_22_004_Ecog_c012'], dtype='<U24'),\n",
            "        array(['NVC0905_22_004_Ecog_c013'], dtype='<U24'),\n",
            "        array(['NVC0905_22_004_Ecog_c014'], dtype='<U24'),\n",
            "        array(['NVC0905_22_004_Ecog_c015'], dtype='<U24'),\n",
            "        array(['NVC0905_22_004_Ecog_c016'], dtype='<U24')]], dtype=object), array([[1]], dtype=uint8))]],\n",
            "      dtype=[('data', 'O'), ('data_length_sec', 'O'), ('sampling_frequency', 'O'), ('channels', 'O'), ('sequence', 'O')])}\n"
          ],
          "name": "stdout"
        }
      ]
    },
    {
      "metadata": {
        "id": "vAXT2zBiDA8D",
        "colab_type": "text"
      },
      "cell_type": "markdown",
      "source": [
        "##Using moving averages to smooth out the data\n",
        "\n",
        "---\n",
        " ### Step 1. Get a list of all the files\n",
        " Files with *preictal_segment* in the name contain fragments of pre-seizure (within 1 hour prior to seizure) EEG.\n",
        " Files with *interictal_segment* in the name contain fragments of non-seziure/normal EEG.\n",
        " ### Step 2. Smooth out each row of the EEG matrix using *momentum* function\n",
        "\n",
        " Matrix dimensions: *Rows - Number of electrodes, Columns -  data_length_sec X sampling_frequency*\n",
        " \n",
        " ### Step 3.  Slide a window through the the smoothed matrix"
      ]
    },
    {
      "metadata": {
        "id": "WwobNQP2kCRq",
        "colab_type": "code",
        "colab": {}
      },
      "cell_type": "code",
      "source": [
        "def momentum (z):\n",
        "  n_iter = len(z)\n",
        "  beta = 0.9\n",
        "  temp = np.zeros((len(z)))\n",
        "  \n",
        "  for k in range(1,n_iter-1):\n",
        "    temp[k+1] = beta * temp[k] + (1-beta) * z[k] \n",
        "    \n",
        "  return temp\n",
        "  \n"
      ],
      "execution_count": 0,
      "outputs": []
    },
    {
      "metadata": {
        "id": "gYzhvS7YDUvv",
        "colab_type": "text"
      },
      "cell_type": "markdown",
      "source": [
        "###Visualize raw and smoothed data\n",
        "Correct beta in the **momentum** to achieve a smoother curve or vice versa"
      ]
    },
    {
      "metadata": {
        "id": "ULaU7L2EvM3M",
        "colab_type": "code",
        "colab": {
          "base_uri": "https://localhost:8080/",
          "height": 534
        },
        "outputId": "d9eb8286-cb63-4590-e407-7c48b6c1e496"
      },
      "cell_type": "code",
      "source": [
        "\n",
        "import matplotlib.pyplot as plt\n",
        "m = loadmat('./output/Dog_5/Dog_5_preictal_segment_0006.mat')\n",
        "d = m['preictal_segment_6'][0][0][0]\n",
        "\n",
        "plt.figure(figsize=(30,4))\n",
        "plt.plot(d[1][0:1000])\n",
        "\n",
        "plt.ylabel('voltage')\n",
        "plt.show()\n",
        "\n",
        "\n",
        "\n",
        "plt.figure(figsize=(30,4))\n",
        "plt.plot(momentum(d[1][0:1000]))\n",
        "\n",
        "plt.ylabel('voltage')\n",
        "plt.show()"
      ],
      "execution_count": 9,
      "outputs": [
        {
          "output_type": "display_data",
          "data": {
            "image/png": "[encoded data removed]",
            "text/plain": [
              "<matplotlib.figure.Figure at 0x7f98aba310f0>"
            ]
          },
          "metadata": {
            "tags": []
          }
        },
        {
          "output_type": "display_data",
          "data": {
            "image/png": "[encoded data removed]",
            "text/plain": [
              "<matplotlib.figure.Figure at 0x7f98a6baf828>"
            ]
          },
          "metadata": {
            "tags": []
          }
        }
      ]
    },
    {
      "metadata": {
        "id": "-ss4GqvOxJg5",
        "colab_type": "code",
        "colab": {}
      },
      "cell_type": "code",
      "source": [
        "#Window size * # of electrode channels gives us number of features - input to the NN\n",
        "\n",
        "win_size = 39 #can be changed\n",
        "\n",
        "\n",
        "def prepX (fname):\n",
        "    \n",
        "    dt_length = 0\n",
        "    rm = loadmat('./output/Dog_5/' + fname)\n",
        "    \n",
        "    if 'inter' in fn:\n",
        "        \n",
        "        indx=int(fn[25:-4])\n",
        "        rd = rm['interictal_segment_' + str(indx)][0][0][0]\n",
        "        dt_length = math.floor (rd.shape[1] / win_size)\n",
        "        Y = [0] * dt_length\n",
        "    else:\n",
        "       \n",
        "        indx=int(fn[23:-4])\n",
        "        rd = rm['preictal_segment_' + str(indx)][0][0][0]\n",
        "        dt_length = math.floor (rd.shape[1] / win_size)\n",
        "        Y = [1] * dt_length\n",
        "    \n",
        "    #print(dt_length)\n",
        "    rd_filt = np.zeros((rd.shape[0],rd.shape[1]))\n",
        "\n",
        "    for j in range(rd.shape[0]):\n",
        "         rd_filt[j] = momentum(rd[j])\n",
        "    \n",
        "    \n",
        "    data=[]\n",
        "    for i in range(dt_length):\n",
        "        data.append (rd_filt[:, i*win_size : i*win_size+win_size])\n",
        "       \n",
        "        \n",
        "    X = []\n",
        "    for j in range(dt_length):\n",
        "        X.append (data[j].reshape(-1,1))\n",
        "\n",
        "        \n",
        "    return X, Y\n",
        "    "
      ],
      "execution_count": 0,
      "outputs": []
    },
    {
      "metadata": {
        "id": "69MIQlRUu5oo",
        "colab_type": "code",
        "colab": {
          "base_uri": "https://localhost:8080/",
          "height": 35
        },
        "outputId": "ff09d73e-a625-4946-9b5f-f0324a9d7e92"
      },
      "cell_type": "code",
      "source": [
        "#This is where we'll put prepocessed files\n",
        "!mkdir processed"
      ],
      "execution_count": 11,
      "outputs": [
        {
          "output_type": "stream",
          "text": [
            "mkdir: cannot create directory ‘processed’: File exists\n"
          ],
          "name": "stdout"
        }
      ]
    },
    {
      "metadata": {
        "id": "Znf3DcUKxpv_",
        "colab_type": "code",
        "colab": {
          "base_uri": "https://localhost:8080/",
          "height": 1054
        },
        "outputId": "0d20a5f6-1873-4b87-c1b6-c128e4f6f8c8"
      },
      "cell_type": "code",
      "source": [
        "#This part takes a while\n",
        "from random import shuffle\n",
        "import pickle\n",
        "\n",
        "fns  = []\n",
        "\n",
        "posit = [fn for fn in os.listdir(\"./output/Dog_5/\") if 'preictal' in fn]\n",
        "negat = [fn for fn in os.listdir(\"./output/Dog_5/\") if 'interictal' in fn]\n",
        "shuffle(negat)\n",
        "\n",
        "#posit = posit[:2]\n",
        "#negat = negat[:2]\n",
        "\n",
        "negat = negat[0:len(posit)]\n",
        "\n",
        "fns = posit + negat\n",
        "shuffle(fns)\n",
        "\n",
        "for fn in fns:\n",
        "    print(fn)\n",
        "    X_f, Y_f = prepX(fn)\n",
        "\n",
        "    \n",
        "    dbfile = open('./processed/' + fn , 'wb')\n",
        "      \n",
        "    # pickle the preproced data\n",
        "    pickle.dump([X_f, Y_f], dbfile)                   \n",
        "    dbfile.close()\n",
        "  \n"
      ],
      "execution_count": 12,
      "outputs": [
        {
          "output_type": "stream",
          "text": [
            "Dog_5_preictal_segment_0015.mat\n",
            "Dog_5_interictal_segment_0012.mat\n",
            "Dog_5_preictal_segment_0008.mat\n",
            "Dog_5_preictal_segment_0009.mat\n",
            "Dog_5_interictal_segment_0147.mat\n",
            "Dog_5_interictal_segment_0195.mat\n",
            "Dog_5_preictal_segment_0010.mat\n",
            "Dog_5_preictal_segment_0028.mat\n",
            "Dog_5_interictal_segment_0078.mat\n",
            "Dog_5_preictal_segment_0016.mat\n",
            "Dog_5_preictal_segment_0002.mat\n",
            "Dog_5_interictal_segment_0374.mat\n",
            "Dog_5_interictal_segment_0069.mat\n",
            "Dog_5_preictal_segment_0022.mat\n",
            "Dog_5_preictal_segment_0005.mat\n",
            "Dog_5_preictal_segment_0006.mat\n",
            "Dog_5_preictal_segment_0014.mat\n",
            "Dog_5_interictal_segment_0423.mat\n",
            "Dog_5_preictal_segment_0001.mat\n",
            "Dog_5_preictal_segment_0030.mat\n",
            "Dog_5_interictal_segment_0242.mat\n",
            "Dog_5_interictal_segment_0388.mat\n",
            "Dog_5_preictal_segment_0013.mat\n",
            "Dog_5_preictal_segment_0004.mat\n",
            "Dog_5_preictal_segment_0029.mat\n",
            "Dog_5_preictal_segment_0007.mat\n",
            "Dog_5_interictal_segment_0282.mat\n",
            "Dog_5_interictal_segment_0276.mat\n",
            "Dog_5_preictal_segment_0024.mat\n",
            "Dog_5_interictal_segment_0402.mat\n",
            "Dog_5_interictal_segment_0441.mat\n",
            "Dog_5_preictal_segment_0017.mat\n",
            "Dog_5_interictal_segment_0424.mat\n",
            "Dog_5_interictal_segment_0355.mat\n",
            "Dog_5_preictal_segment_0021.mat\n",
            "Dog_5_interictal_segment_0029.mat\n",
            "Dog_5_preictal_segment_0019.mat\n",
            "Dog_5_preictal_segment_0025.mat\n",
            "Dog_5_interictal_segment_0038.mat\n",
            "Dog_5_interictal_segment_0261.mat\n",
            "Dog_5_interictal_segment_0407.mat\n",
            "Dog_5_preictal_segment_0018.mat\n",
            "Dog_5_interictal_segment_0134.mat\n",
            "Dog_5_preictal_segment_0027.mat\n",
            "Dog_5_preictal_segment_0012.mat\n",
            "Dog_5_preictal_segment_0003.mat\n",
            "Dog_5_preictal_segment_0020.mat\n",
            "Dog_5_interictal_segment_0325.mat\n",
            "Dog_5_interictal_segment_0395.mat\n",
            "Dog_5_preictal_segment_0026.mat\n",
            "Dog_5_interictal_segment_0115.mat\n",
            "Dog_5_interictal_segment_0246.mat\n",
            "Dog_5_interictal_segment_0001.mat\n",
            "Dog_5_preictal_segment_0011.mat\n",
            "Dog_5_preictal_segment_0023.mat\n",
            "Dog_5_interictal_segment_0331.mat\n",
            "Dog_5_interictal_segment_0047.mat\n",
            "Dog_5_interictal_segment_0028.mat\n",
            "Dog_5_interictal_segment_0315.mat\n",
            "Dog_5_interictal_segment_0008.mat\n"
          ],
          "name": "stdout"
        }
      ]
    },
    {
      "metadata": {
        "id": "xzel9ljAXG02",
        "colab_type": "text"
      },
      "cell_type": "markdown",
      "source": [
        "##Get the preprocessed data and feed into the model\n",
        "---"
      ]
    },
    {
      "metadata": {
        "id": "c2UDovdY3gzc",
        "colab_type": "code",
        "colab": {}
      },
      "cell_type": "code",
      "source": [
        "#Read features from the pickled files\n",
        "X_list = []\n",
        "Y_list = []\n",
        "\n",
        "prep_files = [fn for fn in os.listdir(\"./processed/\")]\n",
        "\n",
        "for f in prep_files:\n",
        "   with open('./processed/' + f, 'rb') as f:\n",
        "    X_f, Y_f = pickle.load(f)\n",
        "    X_list.extend(X_f)\n",
        "    Y_list.extend(Y_f)\n",
        "       "
      ],
      "execution_count": 0,
      "outputs": []
    },
    {
      "metadata": {
        "id": "EST7ZRwyX9ow",
        "colab_type": "code",
        "colab": {
          "base_uri": "https://localhost:8080/",
          "height": 35
        },
        "outputId": "52179a67-8dc2-4ed0-db5f-216a8060f108"
      },
      "cell_type": "code",
      "source": [
        "len(X_list)"
      ],
      "execution_count": 14,
      "outputs": [
        {
          "output_type": "execute_result",
          "data": {
            "text/plain": [
              "540936"
            ]
          },
          "metadata": {
            "tags": []
          },
          "execution_count": 14
        }
      ]
    },
    {
      "metadata": {
        "id": "WyoAHWYxYVCs",
        "colab_type": "code",
        "colab": {
          "base_uri": "https://localhost:8080/",
          "height": 35
        },
        "outputId": "e8f3f07c-17af-42f5-f8fc-ae3c5b72aa79"
      },
      "cell_type": "code",
      "source": [
        "len(Y_list)"
      ],
      "execution_count": 15,
      "outputs": [
        {
          "output_type": "execute_result",
          "data": {
            "text/plain": [
              "540936"
            ]
          },
          "metadata": {
            "tags": []
          },
          "execution_count": 15
        }
      ]
    },
    {
      "metadata": {
        "id": "5Wp1B9npe24i",
        "colab_type": "code",
        "colab": {
          "base_uri": "https://localhost:8080/",
          "height": 35
        },
        "outputId": "b86a47b0-53dc-4bfe-a761-258cb2fd4d34"
      },
      "cell_type": "code",
      "source": [
        "!ls"
      ],
      "execution_count": 16,
      "outputs": [
        {
          "output_type": "stream",
          "text": [
            "Dog_5.tar.gz  kaggle.json  output  processed  sample_data\n"
          ],
          "name": "stdout"
        }
      ]
    },
    {
      "metadata": {
        "id": "RBTCCa9zGkQd",
        "colab_type": "code",
        "colab": {}
      },
      "cell_type": "code",
      "source": [
        "X = np.asarray(X_list)\n",
        "X = X.reshape(X.shape[0], X.shape[1])\n",
        "\n",
        "Y = np.asarray(Y_list)\n",
        "Y = Y.reshape(Y.shape[0],1)\n"
      ],
      "execution_count": 0,
      "outputs": []
    },
    {
      "metadata": {
        "id": "xW42PsiQM0eY",
        "colab_type": "code",
        "colab": {
          "base_uri": "https://localhost:8080/",
          "height": 35
        },
        "outputId": "0bc03137-1a91-4a44-ba8f-c4e9d3036805"
      },
      "cell_type": "code",
      "source": [
        "X.shape"
      ],
      "execution_count": 18,
      "outputs": [
        {
          "output_type": "execute_result",
          "data": {
            "text/plain": [
              "(540936, 585)"
            ]
          },
          "metadata": {
            "tags": []
          },
          "execution_count": 18
        }
      ]
    },
    {
      "metadata": {
        "id": "kMYYdNRbr0zX",
        "colab_type": "code",
        "colab": {}
      },
      "cell_type": "code",
      "source": [
        "#Normalizing the feature values (very important for NNs)\n",
        "scaler = StandardScaler()\n",
        "X = scaler.fit_transform(X)"
      ],
      "execution_count": 0,
      "outputs": []
    },
    {
      "metadata": {
        "id": "QZzPlH1H2lky",
        "colab_type": "code",
        "colab": {}
      },
      "cell_type": "code",
      "source": [
        "#Splitting into train/test sets\n",
        "from sklearn.model_selection import train_test_split\n",
        "\n",
        "X_train, X_test, Y_train, Y_test = train_test_split(X, Y, test_size=0.2, random_state=42)"
      ],
      "execution_count": 0,
      "outputs": []
    },
    {
      "metadata": {
        "id": "qn0AxlBR2tPr",
        "colab_type": "code",
        "colab": {
          "base_uri": "https://localhost:8080/",
          "height": 35
        },
        "outputId": "e1e61bcc-85ef-438d-9107-bb39ab160d05"
      },
      "cell_type": "code",
      "source": [
        "import keras\n",
        "import keras.backend as K\n",
        "from keras.models import Sequential\n",
        "from keras.layers import Dense, Activation, LSTM, Dropout, BatchNormalization"
      ],
      "execution_count": 21,
      "outputs": [
        {
          "output_type": "stream",
          "text": [
            "Using TensorFlow backend.\n"
          ],
          "name": "stderr"
        }
      ]
    },
    {
      "metadata": {
        "id": "PV9mi77U204V",
        "colab_type": "code",
        "colab": {}
      },
      "cell_type": "code",
      "source": [
        "#Topology\n",
        "model = Sequential()\n",
        "\n",
        "model.add(Dense(100, input_dim=X_train.shape[1]))\n",
        "model.add(BatchNormalization())\n",
        "model.add(Activation('relu'))\n",
        "model.add(Dropout(0.2))\n",
        "\n",
        "model.add(Dense(700))\n",
        "model.add(BatchNormalization())\n",
        "model.add(Activation('relu'))\n",
        "model.add(Dropout(0.2))\n",
        "\n",
        "model.add(Dense(1))\n",
        "model.add(Activation('sigmoid'))"
      ],
      "execution_count": 0,
      "outputs": []
    },
    {
      "metadata": {
        "id": "-uGpswgA23Uj",
        "colab_type": "code",
        "colab": {}
      },
      "cell_type": "code",
      "source": [
        "\n",
        "adam = keras.optimizers.Adam(lr=0.1, beta_1=0.9, beta_2=0.999, epsilon=None, decay=0.0, amsgrad=False)\n",
        "model.compile(loss='binary_crossentropy', optimizer='adam', metrics=['accuracy'])"
      ],
      "execution_count": 0,
      "outputs": []
    },
    {
      "metadata": {
        "id": "1WGukHtT25ti",
        "colab_type": "code",
        "colab": {
          "base_uri": "https://localhost:8080/",
          "height": 3489
        },
        "outputId": "2d60822a-6e14-4c53-9e20-10c336f5c3be"
      },
      "cell_type": "code",
      "source": [
        "#train the model\n",
        "model.fit(X_train, Y_train, epochs=100, batch_size=1024)"
      ],
      "execution_count": 24,
      "outputs": [
        {
          "output_type": "stream",
          "text": [
            "Epoch 1/100\n",
            "432748/432748 [==============================] - 9s 21us/step - loss: 0.6121 - acc: 0.6756\n",
            "Epoch 2/100\n",
            "432748/432748 [==============================] - 8s 18us/step - loss: 0.5775 - acc: 0.6976\n",
            "Epoch 3/100\n",
            "432748/432748 [==============================] - 8s 18us/step - loss: 0.5448 - acc: 0.7118\n",
            "Epoch 4/100\n",
            "432748/432748 [==============================] - 8s 17us/step - loss: 0.5312 - acc: 0.7186\n",
            "Epoch 5/100\n",
            "432748/432748 [==============================] - 8s 17us/step - loss: 0.5230 - acc: 0.7240\n",
            "Epoch 6/100\n",
            "432748/432748 [==============================] - 8s 17us/step - loss: 0.5179 - acc: 0.7272\n",
            "Epoch 7/100\n",
            "432748/432748 [==============================] - 8s 17us/step - loss: 0.5137 - acc: 0.7306\n",
            "Epoch 8/100\n",
            "432748/432748 [==============================] - 8s 17us/step - loss: 0.5104 - acc: 0.7328\n",
            "Epoch 9/100\n",
            "432748/432748 [==============================] - 8s 17us/step - loss: 0.5071 - acc: 0.7351\n",
            "Epoch 10/100\n",
            "432748/432748 [==============================] - 7s 17us/step - loss: 0.5046 - acc: 0.7366\n",
            "Epoch 11/100\n",
            "432748/432748 [==============================] - 7s 17us/step - loss: 0.5031 - acc: 0.7371\n",
            "Epoch 12/100\n",
            "432748/432748 [==============================] - 7s 17us/step - loss: 0.5008 - acc: 0.7388\n",
            "Epoch 13/100\n",
            "432748/432748 [==============================] - 8s 17us/step - loss: 0.4985 - acc: 0.7409\n",
            "Epoch 14/100\n",
            "432748/432748 [==============================] - 7s 17us/step - loss: 0.4963 - acc: 0.7426\n",
            "Epoch 15/100\n",
            "432748/432748 [==============================] - 7s 17us/step - loss: 0.4958 - acc: 0.7428\n",
            "Epoch 16/100\n",
            "432748/432748 [==============================] - 7s 17us/step - loss: 0.4944 - acc: 0.7438\n",
            "Epoch 17/100\n",
            "432748/432748 [==============================] - 7s 17us/step - loss: 0.4933 - acc: 0.7449\n",
            "Epoch 18/100\n",
            "432748/432748 [==============================] - 7s 17us/step - loss: 0.4914 - acc: 0.7452\n",
            "Epoch 19/100\n",
            "432748/432748 [==============================] - 7s 17us/step - loss: 0.4906 - acc: 0.7469\n",
            "Epoch 20/100\n",
            "432748/432748 [==============================] - 7s 17us/step - loss: 0.4888 - acc: 0.7477\n",
            "Epoch 21/100\n",
            "432748/432748 [==============================] - 7s 17us/step - loss: 0.4878 - acc: 0.7482\n",
            "Epoch 22/100\n",
            "432748/432748 [==============================] - 8s 17us/step - loss: 0.4872 - acc: 0.7491\n",
            "Epoch 23/100\n",
            "432748/432748 [==============================] - 8s 18us/step - loss: 0.4860 - acc: 0.7496\n",
            "Epoch 24/100\n",
            "432748/432748 [==============================] - 7s 17us/step - loss: 0.4855 - acc: 0.7496\n",
            "Epoch 25/100\n",
            "432748/432748 [==============================] - 7s 17us/step - loss: 0.4847 - acc: 0.7504\n",
            "Epoch 26/100\n",
            "432748/432748 [==============================] - 7s 17us/step - loss: 0.4833 - acc: 0.7518\n",
            "Epoch 27/100\n",
            "432748/432748 [==============================] - 7s 17us/step - loss: 0.4829 - acc: 0.7522\n",
            "Epoch 28/100\n",
            "432748/432748 [==============================] - 7s 17us/step - loss: 0.4814 - acc: 0.7525\n",
            "Epoch 29/100\n",
            "432748/432748 [==============================] - 8s 17us/step - loss: 0.4806 - acc: 0.7532\n",
            "Epoch 30/100\n",
            "432748/432748 [==============================] - 8s 18us/step - loss: 0.4806 - acc: 0.7531\n",
            "Epoch 31/100\n",
            "432748/432748 [==============================] - 7s 17us/step - loss: 0.4795 - acc: 0.7537\n",
            "Epoch 32/100\n",
            "432748/432748 [==============================] - 7s 17us/step - loss: 0.4790 - acc: 0.7550\n",
            "Epoch 33/100\n",
            "432748/432748 [==============================] - 7s 17us/step - loss: 0.4784 - acc: 0.7548\n",
            "Epoch 34/100\n",
            "432748/432748 [==============================] - 7s 17us/step - loss: 0.4771 - acc: 0.7559\n",
            "Epoch 35/100\n",
            "432748/432748 [==============================] - 7s 17us/step - loss: 0.4765 - acc: 0.7566\n",
            "Epoch 36/100\n",
            "432748/432748 [==============================] - 8s 19us/step - loss: 0.4765 - acc: 0.7563\n",
            "Epoch 37/100\n",
            "432748/432748 [==============================] - 8s 18us/step - loss: 0.4756 - acc: 0.7563\n",
            "Epoch 38/100\n",
            "432748/432748 [==============================] - 7s 17us/step - loss: 0.4749 - acc: 0.7571\n",
            "Epoch 39/100\n",
            "432748/432748 [==============================] - 7s 17us/step - loss: 0.4753 - acc: 0.7570\n",
            "Epoch 40/100\n",
            "432748/432748 [==============================] - 7s 17us/step - loss: 0.4740 - acc: 0.7578\n",
            "Epoch 41/100\n",
            "432748/432748 [==============================] - 7s 17us/step - loss: 0.4732 - acc: 0.7589\n",
            "Epoch 42/100\n",
            "432748/432748 [==============================] - 7s 17us/step - loss: 0.4729 - acc: 0.7586\n",
            "Epoch 43/100\n",
            "432748/432748 [==============================] - 7s 17us/step - loss: 0.4729 - acc: 0.7582\n",
            "Epoch 44/100\n",
            "432748/432748 [==============================] - 7s 17us/step - loss: 0.4722 - acc: 0.7590\n",
            "Epoch 45/100\n",
            "432748/432748 [==============================] - 7s 17us/step - loss: 0.4715 - acc: 0.7604\n",
            "Epoch 46/100\n",
            "432748/432748 [==============================] - 7s 17us/step - loss: 0.4704 - acc: 0.7606\n",
            "Epoch 47/100\n",
            "432748/432748 [==============================] - 7s 17us/step - loss: 0.4697 - acc: 0.7604\n",
            "Epoch 48/100\n",
            "432748/432748 [==============================] - 7s 17us/step - loss: 0.4694 - acc: 0.7612\n",
            "Epoch 49/100\n",
            "432748/432748 [==============================] - 7s 17us/step - loss: 0.4698 - acc: 0.7610\n",
            "Epoch 50/100\n",
            "432748/432748 [==============================] - 7s 17us/step - loss: 0.4686 - acc: 0.7619\n",
            "Epoch 51/100\n",
            "432748/432748 [==============================] - 7s 17us/step - loss: 0.4686 - acc: 0.7619\n",
            "Epoch 52/100\n",
            "432748/432748 [==============================] - 7s 17us/step - loss: 0.4680 - acc: 0.7622\n",
            "Epoch 53/100\n",
            "432748/432748 [==============================] - 7s 17us/step - loss: 0.4675 - acc: 0.7623\n",
            "Epoch 54/100\n",
            "432748/432748 [==============================] - 7s 17us/step - loss: 0.4674 - acc: 0.7623\n",
            "Epoch 55/100\n",
            "432748/432748 [==============================] - 7s 17us/step - loss: 0.4667 - acc: 0.7624\n",
            "Epoch 56/100\n",
            "432748/432748 [==============================] - 7s 17us/step - loss: 0.4657 - acc: 0.7635\n",
            "Epoch 57/100\n",
            "432748/432748 [==============================] - 7s 17us/step - loss: 0.4663 - acc: 0.7629\n",
            "Epoch 58/100\n",
            "432748/432748 [==============================] - 7s 17us/step - loss: 0.4661 - acc: 0.7629\n",
            "Epoch 59/100\n",
            "432748/432748 [==============================] - 7s 17us/step - loss: 0.4653 - acc: 0.7645\n",
            "Epoch 60/100\n",
            "432748/432748 [==============================] - 7s 17us/step - loss: 0.4651 - acc: 0.7639\n",
            "Epoch 61/100\n",
            "432748/432748 [==============================] - 7s 17us/step - loss: 0.4646 - acc: 0.7647\n",
            "Epoch 62/100\n",
            "432748/432748 [==============================] - 7s 17us/step - loss: 0.4638 - acc: 0.7646\n",
            "Epoch 63/100\n",
            "432748/432748 [==============================] - 7s 17us/step - loss: 0.4634 - acc: 0.7650\n",
            "Epoch 64/100\n",
            "432748/432748 [==============================] - 7s 17us/step - loss: 0.4633 - acc: 0.7651\n",
            "Epoch 65/100\n",
            "432748/432748 [==============================] - 7s 17us/step - loss: 0.4629 - acc: 0.7657\n",
            "Epoch 66/100\n",
            "432748/432748 [==============================] - 7s 17us/step - loss: 0.4622 - acc: 0.7667\n",
            "Epoch 67/100\n",
            "432748/432748 [==============================] - 7s 17us/step - loss: 0.4631 - acc: 0.7652\n",
            "Epoch 68/100\n",
            "432748/432748 [==============================] - 7s 17us/step - loss: 0.4615 - acc: 0.7662\n",
            "Epoch 69/100\n",
            "432748/432748 [==============================] - 7s 17us/step - loss: 0.4619 - acc: 0.7661\n",
            "Epoch 70/100\n",
            "432748/432748 [==============================] - 7s 17us/step - loss: 0.4614 - acc: 0.7663\n",
            "Epoch 71/100\n",
            "432748/432748 [==============================] - 8s 18us/step - loss: 0.4612 - acc: 0.7662\n",
            "Epoch 72/100\n",
            "432748/432748 [==============================] - 7s 17us/step - loss: 0.4607 - acc: 0.7667\n",
            "Epoch 73/100\n",
            "432748/432748 [==============================] - 7s 17us/step - loss: 0.4606 - acc: 0.7670\n",
            "Epoch 74/100\n",
            "432748/432748 [==============================] - 7s 17us/step - loss: 0.4597 - acc: 0.7684\n",
            "Epoch 75/100\n",
            "432748/432748 [==============================] - 7s 17us/step - loss: 0.4597 - acc: 0.7668\n",
            "Epoch 76/100\n",
            "432748/432748 [==============================] - 7s 17us/step - loss: 0.4592 - acc: 0.7685\n",
            "Epoch 77/100\n",
            "432748/432748 [==============================] - 7s 17us/step - loss: 0.4592 - acc: 0.7676\n",
            "Epoch 78/100\n",
            "432748/432748 [==============================] - 8s 18us/step - loss: 0.4586 - acc: 0.7684\n",
            "Epoch 79/100\n",
            "432748/432748 [==============================] - 8s 18us/step - loss: 0.4587 - acc: 0.7686\n",
            "Epoch 80/100\n",
            "432748/432748 [==============================] - 7s 17us/step - loss: 0.4586 - acc: 0.7677\n",
            "Epoch 81/100\n",
            "432748/432748 [==============================] - 7s 17us/step - loss: 0.4582 - acc: 0.7691\n",
            "Epoch 82/100\n",
            "432748/432748 [==============================] - 7s 16us/step - loss: 0.4576 - acc: 0.7690\n",
            "Epoch 83/100\n",
            "432748/432748 [==============================] - 7s 17us/step - loss: 0.4576 - acc: 0.7691\n",
            "Epoch 84/100\n",
            "432748/432748 [==============================] - 7s 17us/step - loss: 0.4568 - acc: 0.7700\n",
            "Epoch 85/100\n",
            "432748/432748 [==============================] - 7s 17us/step - loss: 0.4571 - acc: 0.7689\n",
            "Epoch 86/100\n",
            "432748/432748 [==============================] - 7s 17us/step - loss: 0.4566 - acc: 0.7693\n",
            "Epoch 87/100\n",
            "432748/432748 [==============================] - 7s 17us/step - loss: 0.4563 - acc: 0.7701\n",
            "Epoch 88/100\n",
            "432748/432748 [==============================] - 7s 16us/step - loss: 0.4557 - acc: 0.7701\n",
            "Epoch 89/100\n",
            "432748/432748 [==============================] - 7s 17us/step - loss: 0.4556 - acc: 0.7705\n",
            "Epoch 90/100\n",
            "432748/432748 [==============================] - 7s 17us/step - loss: 0.4560 - acc: 0.7695\n",
            "Epoch 91/100\n",
            "432748/432748 [==============================] - 7s 16us/step - loss: 0.4557 - acc: 0.7704\n",
            "Epoch 92/100\n",
            "432748/432748 [==============================] - 7s 17us/step - loss: 0.4557 - acc: 0.7702\n",
            "Epoch 93/100\n",
            "432748/432748 [==============================] - 7s 17us/step - loss: 0.4552 - acc: 0.7706\n",
            "Epoch 94/100\n",
            "432748/432748 [==============================] - 7s 17us/step - loss: 0.4548 - acc: 0.7708\n",
            "Epoch 95/100\n",
            "432748/432748 [==============================] - 7s 17us/step - loss: 0.4546 - acc: 0.7711\n",
            "Epoch 96/100\n",
            "432748/432748 [==============================] - 7s 17us/step - loss: 0.4544 - acc: 0.7713\n",
            "Epoch 97/100\n",
            "432748/432748 [==============================] - 7s 17us/step - loss: 0.4533 - acc: 0.7716\n",
            "Epoch 98/100\n",
            "432748/432748 [==============================] - 7s 17us/step - loss: 0.4537 - acc: 0.7720\n",
            "Epoch 99/100\n",
            "432748/432748 [==============================] - 7s 17us/step - loss: 0.4530 - acc: 0.7720\n",
            "Epoch 100/100\n",
            "432748/432748 [==============================] - 7s 17us/step - loss: 0.4533 - acc: 0.7717\n"
          ],
          "name": "stdout"
        },
        {
          "output_type": "execute_result",
          "data": {
            "text/plain": [
              "<keras.callbacks.History at 0x7f98aba49f98>"
            ]
          },
          "metadata": {
            "tags": []
          },
          "execution_count": 24
        }
      ]
    },
    {
      "metadata": {
        "id": "EJpxY1Ne29fJ",
        "colab_type": "code",
        "colab": {}
      },
      "cell_type": "code",
      "source": [
        "#Get predictions for the test set\n",
        "ytest = model.predict_classes(X_test)"
      ],
      "execution_count": 0,
      "outputs": []
    },
    {
      "metadata": {
        "id": "Qnfpx5wZ6DW4",
        "colab_type": "code",
        "colab": {
          "base_uri": "https://localhost:8080/",
          "height": 190
        },
        "outputId": "493dcc83-a673-4e01-f378-7ad2598926f7"
      },
      "cell_type": "code",
      "source": [
        "#Confusion matrix \n",
        "from sklearn.metrics import classification_report, roc_auc_score\n",
        "print(classification_report(Y_test, ytest))\n",
        "print(roc_auc_score(ytest, Y_test))"
      ],
      "execution_count": 26,
      "outputs": [
        {
          "output_type": "stream",
          "text": [
            "              precision    recall  f1-score   support\n",
            "\n",
            "           0       0.81      0.84      0.82     71340\n",
            "           1       0.67      0.61      0.63     36848\n",
            "\n",
            "   micro avg       0.76      0.76      0.76    108188\n",
            "   macro avg       0.74      0.72      0.73    108188\n",
            "weighted avg       0.76      0.76      0.76    108188\n",
            "\n",
            "0.7358076423276371\n"
          ],
          "name": "stdout"
        }
      ]
    },
    {
      "metadata": {
        "id": "wNBDixJY6FOw",
        "colab_type": "code",
        "colab": {}
      },
      "cell_type": "code",
      "source": [
        ""
      ],
      "execution_count": 0,
      "outputs": []
    }
  ]
}